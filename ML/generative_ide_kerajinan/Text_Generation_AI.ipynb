{
  "cells": [
    {
      "cell_type": "code",
      "execution_count": null,
      "id": "ab6f1e5d-54b2-4861-a838-254991ab6b38",
      "metadata": {
        "pycharm": {
          "name": "#%%\n"
        },
        "id": "ab6f1e5d-54b2-4861-a838-254991ab6b38"
      },
      "outputs": [],
      "source": [
        "import random\n",
        "import pickle\n",
        "import heapq\n",
        "\n",
        "import numpy as np\n",
        "import pandas as pd\n",
        "import matplotlib.pyplot as plt\n",
        "from nltk.tokenize import RegexpTokenizer\n",
        "\n",
        "import re\n",
        "from nltk.tokenize import word_tokenize\n",
        "import json\n",
        "\n",
        "import tensorflow as tf\n",
        "from tensorflow.keras.models import Sequential, load_model\n",
        "from tensorflow.keras.layers import LSTM, Dense, Activation\n",
        "from tensorflow.keras.optimizers import RMSprop\n",
        "\n",
        "from transformers import AutoTokenizer\n",
        "from collections import Counter"
      ]
    },
    {
      "cell_type": "code",
      "source": [
        "text_df = pd.read_csv(\"/content/trashup_craft_idea_dataset.csv\")\n",
        "text_df.head()"
      ],
      "metadata": {
        "colab": {
          "base_uri": "https://localhost:8080/",
          "height": 206
        },
        "id": "gLldFaPhz83Z",
        "outputId": "9b9d22d4-5c8d-4cd0-b2a9-2470af83ef4f"
      },
      "id": "gLldFaPhz83Z",
      "execution_count": null,
      "outputs": [
        {
          "output_type": "execute_result",
          "data": {
            "text/plain": [
              "            Title                                               Text    Label\n",
              "0  Rak Buku Kecil  Daripada dibuang, kardus bisa dikreasikan menj...   Kertas\n",
              "1     Ayunan Anak  Daripada dibuang, ban bisa dikreasikan menjadi...    Karet\n",
              "2      Lampu Hias  Mari mengubah botol plastik menjadi sesuatu ya...  Plastik\n",
              "3   Hiasan Mozaik  Ingin mendaur ulang pecahan kaca? Anda bisa me...     Kaca\n",
              "4  Hiasan Dinding  Berikut ide kreatif untuk memanfaatkan kain pe...  Tekstil"
            ],
            "text/html": [
              "\n",
              "  <div id=\"df-3a85e191-b99b-4706-a662-82257aec875f\" class=\"colab-df-container\">\n",
              "    <div>\n",
              "<style scoped>\n",
              "    .dataframe tbody tr th:only-of-type {\n",
              "        vertical-align: middle;\n",
              "    }\n",
              "\n",
              "    .dataframe tbody tr th {\n",
              "        vertical-align: top;\n",
              "    }\n",
              "\n",
              "    .dataframe thead th {\n",
              "        text-align: right;\n",
              "    }\n",
              "</style>\n",
              "<table border=\"1\" class=\"dataframe\">\n",
              "  <thead>\n",
              "    <tr style=\"text-align: right;\">\n",
              "      <th></th>\n",
              "      <th>Title</th>\n",
              "      <th>Text</th>\n",
              "      <th>Label</th>\n",
              "    </tr>\n",
              "  </thead>\n",
              "  <tbody>\n",
              "    <tr>\n",
              "      <th>0</th>\n",
              "      <td>Rak Buku Kecil</td>\n",
              "      <td>Daripada dibuang, kardus bisa dikreasikan menj...</td>\n",
              "      <td>Kertas</td>\n",
              "    </tr>\n",
              "    <tr>\n",
              "      <th>1</th>\n",
              "      <td>Ayunan Anak</td>\n",
              "      <td>Daripada dibuang, ban bisa dikreasikan menjadi...</td>\n",
              "      <td>Karet</td>\n",
              "    </tr>\n",
              "    <tr>\n",
              "      <th>2</th>\n",
              "      <td>Lampu Hias</td>\n",
              "      <td>Mari mengubah botol plastik menjadi sesuatu ya...</td>\n",
              "      <td>Plastik</td>\n",
              "    </tr>\n",
              "    <tr>\n",
              "      <th>3</th>\n",
              "      <td>Hiasan Mozaik</td>\n",
              "      <td>Ingin mendaur ulang pecahan kaca? Anda bisa me...</td>\n",
              "      <td>Kaca</td>\n",
              "    </tr>\n",
              "    <tr>\n",
              "      <th>4</th>\n",
              "      <td>Hiasan Dinding</td>\n",
              "      <td>Berikut ide kreatif untuk memanfaatkan kain pe...</td>\n",
              "      <td>Tekstil</td>\n",
              "    </tr>\n",
              "  </tbody>\n",
              "</table>\n",
              "</div>\n",
              "    <div class=\"colab-df-buttons\">\n",
              "\n",
              "  <div class=\"colab-df-container\">\n",
              "    <button class=\"colab-df-convert\" onclick=\"convertToInteractive('df-3a85e191-b99b-4706-a662-82257aec875f')\"\n",
              "            title=\"Convert this dataframe to an interactive table.\"\n",
              "            style=\"display:none;\">\n",
              "\n",
              "  <svg xmlns=\"http://www.w3.org/2000/svg\" height=\"24px\" viewBox=\"0 -960 960 960\">\n",
              "    <path d=\"M120-120v-720h720v720H120Zm60-500h600v-160H180v160Zm220 220h160v-160H400v160Zm0 220h160v-160H400v160ZM180-400h160v-160H180v160Zm440 0h160v-160H620v160ZM180-180h160v-160H180v160Zm440 0h160v-160H620v160Z\"/>\n",
              "  </svg>\n",
              "    </button>\n",
              "\n",
              "  <style>\n",
              "    .colab-df-container {\n",
              "      display:flex;\n",
              "      gap: 12px;\n",
              "    }\n",
              "\n",
              "    .colab-df-convert {\n",
              "      background-color: #E8F0FE;\n",
              "      border: none;\n",
              "      border-radius: 50%;\n",
              "      cursor: pointer;\n",
              "      display: none;\n",
              "      fill: #1967D2;\n",
              "      height: 32px;\n",
              "      padding: 0 0 0 0;\n",
              "      width: 32px;\n",
              "    }\n",
              "\n",
              "    .colab-df-convert:hover {\n",
              "      background-color: #E2EBFA;\n",
              "      box-shadow: 0px 1px 2px rgba(60, 64, 67, 0.3), 0px 1px 3px 1px rgba(60, 64, 67, 0.15);\n",
              "      fill: #174EA6;\n",
              "    }\n",
              "\n",
              "    .colab-df-buttons div {\n",
              "      margin-bottom: 4px;\n",
              "    }\n",
              "\n",
              "    [theme=dark] .colab-df-convert {\n",
              "      background-color: #3B4455;\n",
              "      fill: #D2E3FC;\n",
              "    }\n",
              "\n",
              "    [theme=dark] .colab-df-convert:hover {\n",
              "      background-color: #434B5C;\n",
              "      box-shadow: 0px 1px 3px 1px rgba(0, 0, 0, 0.15);\n",
              "      filter: drop-shadow(0px 1px 2px rgba(0, 0, 0, 0.3));\n",
              "      fill: #FFFFFF;\n",
              "    }\n",
              "  </style>\n",
              "\n",
              "    <script>\n",
              "      const buttonEl =\n",
              "        document.querySelector('#df-3a85e191-b99b-4706-a662-82257aec875f button.colab-df-convert');\n",
              "      buttonEl.style.display =\n",
              "        google.colab.kernel.accessAllowed ? 'block' : 'none';\n",
              "\n",
              "      async function convertToInteractive(key) {\n",
              "        const element = document.querySelector('#df-3a85e191-b99b-4706-a662-82257aec875f');\n",
              "        const dataTable =\n",
              "          await google.colab.kernel.invokeFunction('convertToInteractive',\n",
              "                                                    [key], {});\n",
              "        if (!dataTable) return;\n",
              "\n",
              "        const docLinkHtml = 'Like what you see? Visit the ' +\n",
              "          '<a target=\"_blank\" href=https://colab.research.google.com/notebooks/data_table.ipynb>data table notebook</a>'\n",
              "          + ' to learn more about interactive tables.';\n",
              "        element.innerHTML = '';\n",
              "        dataTable['output_type'] = 'display_data';\n",
              "        await google.colab.output.renderOutput(dataTable, element);\n",
              "        const docLink = document.createElement('div');\n",
              "        docLink.innerHTML = docLinkHtml;\n",
              "        element.appendChild(docLink);\n",
              "      }\n",
              "    </script>\n",
              "  </div>\n",
              "\n",
              "\n",
              "<div id=\"df-6061e233-155e-4f46-baff-fce789728ffd\">\n",
              "  <button class=\"colab-df-quickchart\" onclick=\"quickchart('df-6061e233-155e-4f46-baff-fce789728ffd')\"\n",
              "            title=\"Suggest charts\"\n",
              "            style=\"display:none;\">\n",
              "\n",
              "<svg xmlns=\"http://www.w3.org/2000/svg\" height=\"24px\"viewBox=\"0 0 24 24\"\n",
              "     width=\"24px\">\n",
              "    <g>\n",
              "        <path d=\"M19 3H5c-1.1 0-2 .9-2 2v14c0 1.1.9 2 2 2h14c1.1 0 2-.9 2-2V5c0-1.1-.9-2-2-2zM9 17H7v-7h2v7zm4 0h-2V7h2v10zm4 0h-2v-4h2v4z\"/>\n",
              "    </g>\n",
              "</svg>\n",
              "  </button>\n",
              "\n",
              "<style>\n",
              "  .colab-df-quickchart {\n",
              "      --bg-color: #E8F0FE;\n",
              "      --fill-color: #1967D2;\n",
              "      --hover-bg-color: #E2EBFA;\n",
              "      --hover-fill-color: #174EA6;\n",
              "      --disabled-fill-color: #AAA;\n",
              "      --disabled-bg-color: #DDD;\n",
              "  }\n",
              "\n",
              "  [theme=dark] .colab-df-quickchart {\n",
              "      --bg-color: #3B4455;\n",
              "      --fill-color: #D2E3FC;\n",
              "      --hover-bg-color: #434B5C;\n",
              "      --hover-fill-color: #FFFFFF;\n",
              "      --disabled-bg-color: #3B4455;\n",
              "      --disabled-fill-color: #666;\n",
              "  }\n",
              "\n",
              "  .colab-df-quickchart {\n",
              "    background-color: var(--bg-color);\n",
              "    border: none;\n",
              "    border-radius: 50%;\n",
              "    cursor: pointer;\n",
              "    display: none;\n",
              "    fill: var(--fill-color);\n",
              "    height: 32px;\n",
              "    padding: 0;\n",
              "    width: 32px;\n",
              "  }\n",
              "\n",
              "  .colab-df-quickchart:hover {\n",
              "    background-color: var(--hover-bg-color);\n",
              "    box-shadow: 0 1px 2px rgba(60, 64, 67, 0.3), 0 1px 3px 1px rgba(60, 64, 67, 0.15);\n",
              "    fill: var(--button-hover-fill-color);\n",
              "  }\n",
              "\n",
              "  .colab-df-quickchart-complete:disabled,\n",
              "  .colab-df-quickchart-complete:disabled:hover {\n",
              "    background-color: var(--disabled-bg-color);\n",
              "    fill: var(--disabled-fill-color);\n",
              "    box-shadow: none;\n",
              "  }\n",
              "\n",
              "  .colab-df-spinner {\n",
              "    border: 2px solid var(--fill-color);\n",
              "    border-color: transparent;\n",
              "    border-bottom-color: var(--fill-color);\n",
              "    animation:\n",
              "      spin 1s steps(1) infinite;\n",
              "  }\n",
              "\n",
              "  @keyframes spin {\n",
              "    0% {\n",
              "      border-color: transparent;\n",
              "      border-bottom-color: var(--fill-color);\n",
              "      border-left-color: var(--fill-color);\n",
              "    }\n",
              "    20% {\n",
              "      border-color: transparent;\n",
              "      border-left-color: var(--fill-color);\n",
              "      border-top-color: var(--fill-color);\n",
              "    }\n",
              "    30% {\n",
              "      border-color: transparent;\n",
              "      border-left-color: var(--fill-color);\n",
              "      border-top-color: var(--fill-color);\n",
              "      border-right-color: var(--fill-color);\n",
              "    }\n",
              "    40% {\n",
              "      border-color: transparent;\n",
              "      border-right-color: var(--fill-color);\n",
              "      border-top-color: var(--fill-color);\n",
              "    }\n",
              "    60% {\n",
              "      border-color: transparent;\n",
              "      border-right-color: var(--fill-color);\n",
              "    }\n",
              "    80% {\n",
              "      border-color: transparent;\n",
              "      border-right-color: var(--fill-color);\n",
              "      border-bottom-color: var(--fill-color);\n",
              "    }\n",
              "    90% {\n",
              "      border-color: transparent;\n",
              "      border-bottom-color: var(--fill-color);\n",
              "    }\n",
              "  }\n",
              "</style>\n",
              "\n",
              "  <script>\n",
              "    async function quickchart(key) {\n",
              "      const quickchartButtonEl =\n",
              "        document.querySelector('#' + key + ' button');\n",
              "      quickchartButtonEl.disabled = true;  // To prevent multiple clicks.\n",
              "      quickchartButtonEl.classList.add('colab-df-spinner');\n",
              "      try {\n",
              "        const charts = await google.colab.kernel.invokeFunction(\n",
              "            'suggestCharts', [key], {});\n",
              "      } catch (error) {\n",
              "        console.error('Error during call to suggestCharts:', error);\n",
              "      }\n",
              "      quickchartButtonEl.classList.remove('colab-df-spinner');\n",
              "      quickchartButtonEl.classList.add('colab-df-quickchart-complete');\n",
              "    }\n",
              "    (() => {\n",
              "      let quickchartButtonEl =\n",
              "        document.querySelector('#df-6061e233-155e-4f46-baff-fce789728ffd button');\n",
              "      quickchartButtonEl.style.display =\n",
              "        google.colab.kernel.accessAllowed ? 'block' : 'none';\n",
              "    })();\n",
              "  </script>\n",
              "</div>\n",
              "\n",
              "    </div>\n",
              "  </div>\n"
            ],
            "application/vnd.google.colaboratory.intrinsic+json": {
              "type": "dataframe",
              "variable_name": "text_df",
              "summary": "{\n  \"name\": \"text_df\",\n  \"rows\": 9465,\n  \"fields\": [\n    {\n      \"column\": \"Title\",\n      \"properties\": {\n        \"dtype\": \"category\",\n        \"num_unique_values\": 29,\n        \"samples\": [\n          \"Miniatur Kendaraan\",\n          \"Kotak Penyimpanan\",\n          \"Tas Kecil\"\n        ],\n        \"semantic_type\": \"\",\n        \"description\": \"\"\n      }\n    },\n    {\n      \"column\": \"Text\",\n      \"properties\": {\n        \"dtype\": \"string\",\n        \"num_unique_values\": 9465,\n        \"samples\": [\n          \"Berikut ide kreatif untuk memanfaatkan rak buku rusak menjadi kerajinan yang berguna. Persiapkan terlebih dahulu Stiker, Gunting, Lem dan Kayu. Cara membuatnya cukup mudah: 1. bersihkan rak buku rusak 2. gunakan stiker 3. gunting 4. lem 5. kayu untuk memperkuat struktur dan ubah menjadi kerajinan kayu. Dengan kreativitas, rak buku rusak bisa menjadi kerajinan kayu yang berguna.\",\n          \"Ingin mendaur ulang kaleng minuman? Anda bisa membuatnya menjadi tempat sampah unik yang menarik! Persiapkan terlebih dahulu Stiker, Benang dan Kain. Proses pembuatan bisa dilakukan dengan cara berikut: Tahap 1: potong kaleng minuman menjadi ukuran sesuai kebutuhan Tahap 2: tambahkan stiker Tahap 3: benang Tahap 4: kain Tahap 5: jadikan tempat sampah unik. Begitu mudahnya mengubah kaleng minuman menjadi tempat sampah unik. Ayo dicoba!\",\n          \"Daripada dibuang, kardus bisa dikreasikan menjadi rak buku kecil yang cantik. Bahan yang diperlukan cukup sederhana: Paku, Gunting dan Kapas. Langkah-langkah pembuatannya adalah: 1. susun kardus bekas sesuai pola 2. tambahkan paku 3. gunting 4. kapas untuk menghias dan menjadikannya rak buku kecil. Dengan kreativitas, kardus bisa menjadi rak buku kecil yang berguna.\"\n        ],\n        \"semantic_type\": \"\",\n        \"description\": \"\"\n      }\n    },\n    {\n      \"column\": \"Label\",\n      \"properties\": {\n        \"dtype\": \"category\",\n        \"num_unique_values\": 8,\n        \"samples\": [\n          \"Karet\",\n          \"Lainnya\",\n          \"Kertas\"\n        ],\n        \"semantic_type\": \"\",\n        \"description\": \"\"\n      }\n    }\n  ]\n}"
            }
          },
          "metadata": {},
          "execution_count": 2
        }
      ]
    },
    {
      "cell_type": "code",
      "source": [
        "text_df_copy = text_df.copy()\n",
        "\n",
        "# 1. Text Cleaning yang lebih komprehensif\n",
        "def clean_text(text):\n",
        "    # Lowercase\n",
        "    text = text.lower()\n",
        "\n",
        "    # Standardisasi angka\n",
        "    number_mapping = {\n",
        "        '1': 'pertama',\n",
        "        '2': 'kedua',\n",
        "        '3': 'ketiga',\n",
        "        '4': 'keempat',\n",
        "        '5': 'kelima',\n",
        "        '6': 'keenam',\n",
        "        '7': 'ketujuh',\n",
        "        '8': 'kedelapan',\n",
        "        '9': 'kesembilan',\n",
        "        '10': 'kesepuluh'\n",
        "    }\n",
        "\n",
        "    for num, word in number_mapping.items():\n",
        "        text = text.replace(num, word)\n",
        "\n",
        "    # Hapus karakter yang tidak diperlukan\n",
        "    text = re.sub(r'[^\\w\\s\\.]', ' ', text)\n",
        "\n",
        "    # Standardisasi spasi\n",
        "    text = ' '.join(text.split())\n",
        "\n",
        "    # Tambahkan spasi setelah titik untuk memisahkan kalimat\n",
        "    text = re.sub(r'\\.(?! )', '. ', text)\n",
        "\n",
        "    return text\n",
        "\n",
        "# 2. Preprocessing DataFrame\n",
        "def preprocess_dataframe(df):\n",
        "    df_copy = df.copy()\n",
        "    df_copy['Text'] = df_copy['Text'].apply(clean_text)\n",
        "    return df_copy\n",
        "\n",
        "# 3. Tokenisasi yang lebih baik\n",
        "def prepare_sequences(text, tokenizer, seq_length=10, vocab_size=10000):\n",
        "    # Tokenisasi dengan IndoBERT\n",
        "    tokens = tokenizer.tokenize(text)\n",
        "\n",
        "    # Filter token\n",
        "    tokens = [token for token in tokens if (\n",
        "        token.isalpha() and  # Hanya kata\n",
        "        len(token) > 1 and   # Minimal 2 karakter\n",
        "        not token.startswith('##')  # Bukan subword\n",
        "    )]\n",
        "\n",
        "    # Buat vocabulary\n",
        "    token_counts = Counter(tokens)\n",
        "    most_common_tokens = ['<PAD>', '<UNK>', '<START>', '<END>'] + [\n",
        "        token for token, _ in token_counts.most_common(vocab_size-4)\n",
        "    ]\n",
        "    token_to_idx = {token: idx for idx, token in enumerate(most_common_tokens)}\n",
        "\n",
        "    # Persiapkan sequences\n",
        "    sequences = []\n",
        "    next_tokens = []\n",
        "\n",
        "    for i in range(len(tokens) - seq_length):\n",
        "        seq = tokens[i:i + seq_length]\n",
        "        next_tok = tokens[i + seq_length]\n",
        "\n",
        "        # Skip jika ada token yang tidak dalam vocabulary\n",
        "        if all(token in token_to_idx for token in seq + [next_tok]):\n",
        "            sequences.append([token_to_idx[token] for token in seq])\n",
        "            next_tokens.append(token_to_idx[next_tok])\n",
        "\n",
        "    return np.array(sequences), np.array(next_tokens), token_to_idx, most_common_tokens\n",
        "\n",
        "# Implementasi\n",
        "text_df_processed = preprocess_dataframe(text_df_copy)\n",
        "joined_text = \" \".join(text_df_processed.Text.values)\n",
        "\n",
        "# Gunakan maksimal 1M karakter pertama\n",
        "partial_text = joined_text[:1000000]\n",
        "\n",
        "# Siapkan tokenizer\n",
        "tokenizer = AutoTokenizer.from_pretrained(\"indobenchmark/indobert-base-p1\")\n",
        "seq_length = 10\n",
        "vocab_size=10000\n",
        "\n",
        "# Buat sequences\n",
        "X, y, token_to_idx, vocab = prepare_sequences(\n",
        "    partial_text,\n",
        "    tokenizer,\n",
        "    seq_length=seq_length,\n",
        "    vocab_size=vocab_size\n",
        ")\n",
        "\n",
        "tokens = tokenizer.tokenize(partial_text)\n",
        "\n",
        "# Filter token\n",
        "tokens = [token for token in tokens if (\n",
        "    token.isalpha() and  # Hanya kata\n",
        "    len(token) > 1 and   # Minimal 2 karakter\n",
        "    not token.startswith('##')  # Bukan subword\n",
        ")]\n",
        "\n",
        "# Buat vocabulary\n",
        "token_counts = Counter(tokens)\n",
        "\n",
        "most_common_tokens = ['<PAD>', '<UNK>', '<START>', '<END>'] + [\n",
        "        token for token, _ in token_counts.most_common(vocab_size-4)\n",
        "]\n",
        "\n",
        "# Simpan vocabulary untuk generate text nanti\n",
        "vocab_size = len(vocab)\n",
        "unique_token_index = {idx: token for token, idx in token_to_idx.items()}\n",
        "\n",
        "# Simpan untuk penggunaan nanti\n",
        "np.save('X_processed.npy', X)\n",
        "np.save('y_processed.npy', y)\n",
        "\n",
        "with open('vocab.json', 'w') as f:\n",
        "    json.dump({'token_to_idx': token_to_idx, 'vocab': vocab}, f)\n",
        "\n",
        "print(f\"Data shape: X: {X.shape}, y: {y.shape}\")\n",
        "print(f\"Vocabulary size: {vocab_size}\")"
      ],
      "metadata": {
        "colab": {
          "base_uri": "https://localhost:8080/"
        },
        "id": "-iqHo-Vb5NFS",
        "outputId": "6a3e8db5-84b8-4aed-ea43-15b32176e8f0"
      },
      "id": "-iqHo-Vb5NFS",
      "execution_count": null,
      "outputs": [
        {
          "output_type": "stream",
          "name": "stdout",
          "text": [
            "Data shape: X: (139674, 10), y: (139674,)\n",
            "Vocabulary size: 162\n"
          ]
        }
      ]
    },
    {
      "cell_type": "code",
      "source": [
        "def inspect_sequence(X, y, idx_to_token, num_samples=5):\n",
        "    for i in range(num_samples):\n",
        "        idx = np.random.randint(len(X))\n",
        "        input_seq = ' '.join([idx_to_token[idx] for idx in X[idx]])\n",
        "        next_token = idx_to_token[y[idx]]\n",
        "        print(f\"\\nInput sequence {i+1}: {input_seq}\")\n",
        "        print(f\"Next token: {next_token}\")\n",
        "\n",
        "inspect_sequence(X, y, idx_to_token)"
      ],
      "metadata": {
        "colab": {
          "base_uri": "https://localhost:8080/"
        },
        "id": "XakWqalAbk8j",
        "outputId": "ddb4080f-7715-4788-bb82-213500e51259"
      },
      "id": "XakWqalAbk8j",
      "execution_count": null,
      "outputs": [
        {
          "output_type": "stream",
          "name": "stdout",
          "text": [
            "\n",
            "Input sequence 1: tempat sampah unik ayo dicoba mari mengubah pecahan kaca menjadi\n",
            "Next token: sesuatu\n",
            "\n",
            "Input sequence 2: sesuatu yang bernilai dengan membuat tas kecil persiapkan terlebih dahulu\n",
            "Next token: kain\n",
            "\n",
            "Input sequence 3: proses pembuatan bisa dilakukan dengan cara berikut tahap pertama potong\n",
            "Next token: kantong\n",
            "\n",
            "Input sequence 4: daripada dibuang kain perc bisa dik menjadi boneka mini yang\n",
            "Next token: cantik\n",
            "\n",
            "Input sequence 5: lengkap pembuatannya pertama bersihkan mainan bekas kedua gunakan kapas ketiga\n",
            "Next token: paku\n"
          ]
        }
      ]
    },
    {
      "cell_type": "code",
      "source": [
        "# text_df_copy.loc[:, 'Text'] = text_df_copy['Text'] = (\n",
        "#     text_df_copy['Text']\n",
        "#     .str.replace('!', ' ', regex=False)\n",
        "#     .str.replace('?', ' ', regex=False)\n",
        "#     .str.replace('(', '', regex=False)\n",
        "#     .str.replace(')', '.', regex=False)\n",
        "#     .str.replace('-', ' ', regex=False)\n",
        "#     .str.replace(':', '', regex=False)\n",
        "#     .str.replace('.', '', regex=False)\n",
        "#     .str.replace('1', 'pertama', regex=False)\n",
        "#     .str.replace('2', 'kedua', regex=False)\n",
        "#     .str.replace('3', 'tiga', regex=False)\n",
        "#     .str.replace('4', 'empat', regex=False)\n",
        "#     .str.replace('5', 'lima', regex=False)\n",
        "# )\n",
        "# text_df_copy.values"
      ],
      "metadata": {
        "id": "_hrBuJHEa6v-"
      },
      "id": "_hrBuJHEa6v-",
      "execution_count": null,
      "outputs": []
    },
    {
      "cell_type": "code",
      "execution_count": null,
      "id": "c8cdac11-c039-4bab-91c4-3e92e35a0ef4",
      "metadata": {
        "pycharm": {
          "name": "#%%\n"
        },
        "id": "c8cdac11-c039-4bab-91c4-3e92e35a0ef4"
      },
      "outputs": [],
      "source": [
        "# text = list(text_df_copy.Text.values)\n",
        "# joined_text = \" \".join(text)\n",
        "\n",
        "# with open(\"joined_text.txt\", \"w\", encoding=\"utf-8\") as f:\n",
        "#     f.write(joined_text)"
      ]
    },
    {
      "cell_type": "code",
      "execution_count": null,
      "id": "5b37da10-c72c-49a6-83b3-91ed9504689d",
      "metadata": {
        "pycharm": {
          "name": "#%%\n"
        },
        "id": "5b37da10-c72c-49a6-83b3-91ed9504689d"
      },
      "outputs": [],
      "source": [
        "# partial_text = joined_text[:1000000]\n",
        "# partial_text"
      ]
    },
    {
      "cell_type": "code",
      "execution_count": null,
      "id": "c8a12caf-9d1e-4916-8554-7b102cf2abfa",
      "metadata": {
        "pycharm": {
          "name": "#%%\n"
        },
        "id": "c8a12caf-9d1e-4916-8554-7b102cf2abfa"
      },
      "outputs": [],
      "source": [
        "# tokenizer = AutoTokenizer.from_pretrained(\"indobenchmark/indobert-base-p1\")\n",
        "\n",
        "# tokens = [token for token in tokenizer.tokenize(partial_text.lower()) if token.isalpha()]"
      ]
    },
    {
      "cell_type": "code",
      "execution_count": null,
      "id": "b351bd43-00b3-4421-b572-b633849b382c",
      "metadata": {
        "tags": [],
        "pycharm": {
          "name": "#%%\n"
        },
        "id": "b351bd43-00b3-4421-b572-b633849b382c"
      },
      "outputs": [],
      "source": [
        "# token_counts = Counter(tokens)\n",
        "# most_common_tokens = [token for token, _ in token_counts.most_common(10000)]\n",
        "# unique_token_index = {token: index for index, token in enumerate(most_common_tokens)}"
      ]
    },
    {
      "cell_type": "code",
      "execution_count": null,
      "id": "4b4e1458-225e-4f44-8fa2-f462aa6087bb",
      "metadata": {
        "pycharm": {
          "name": "#%%\n"
        },
        "id": "4b4e1458-225e-4f44-8fa2-f462aa6087bb"
      },
      "outputs": [],
      "source": [
        "# n_words = 10\n",
        "# input_words = []\n",
        "# next_word = []\n",
        "\n",
        "# for i in range(len(tokens) - n_words):\n",
        "#     input_words.append(tokens[i:i + n_words])\n",
        "#     next_word.append(tokens[i + n_words])"
      ]
    },
    {
      "cell_type": "code",
      "execution_count": null,
      "id": "758caffb-288e-4c16-878d-f969fde3d081",
      "metadata": {
        "pycharm": {
          "name": "#%%\n"
        },
        "id": "758caffb-288e-4c16-878d-f969fde3d081"
      },
      "outputs": [],
      "source": [
        "# # Asumsi bentuk data: X.shape = (batch_size, seq_length, feature_size)\n",
        "\n",
        "# X = np.zeros((len(input_words), seq_length), dtype=int)\n",
        "# y = np.zeros((len(next_word),), dtype=int)\n",
        "\n",
        "# for i, words in enumerate(input_words):\n",
        "#     for j, word in enumerate(words):\n",
        "#         X[i, j] = unique_token_index[word]  # Gunakan indeks token, bukan one-hot\n",
        "#     y[i] = unique_token_index[next_word[i]]  # Output target juga dalam bentuk indeks"
      ]
    },
    {
      "cell_type": "code",
      "source": [
        "import tensorflow as tf\n",
        "from tensorflow.keras.models import Sequential\n",
        "from tensorflow.keras.layers import LSTM, Dense, Dropout, Bidirectional, Activation, Embedding\n",
        "from tensorflow.keras.callbacks import EarlyStopping, ModelCheckpoint\n",
        "from tensorflow.keras.utils import to_categorical\n",
        "from tensorflow.keras.losses import SparseCategoricalCrossentropy\n",
        "\n",
        "def build_craft_model_v2(seq_length, vocab_size):\n",
        "    model = Sequential([\n",
        "        # Embedding layer\n",
        "        Embedding(input_dim=vocab_size, output_dim=128, input_length=seq_length),\n",
        "\n",
        "        # LSTM layers\n",
        "        Bidirectional(LSTM(256, return_sequences=True)),\n",
        "        Dropout(0.2),\n",
        "        Bidirectional(LSTM(128)),\n",
        "        Dropout(0.2),\n",
        "\n",
        "        # Dense layers untuk output\n",
        "        Dense(256, activation='relu'),\n",
        "        Dropout(0.2),\n",
        "        Dense(vocab_size, activation='softmax')  # Output layer\n",
        "    ])\n",
        "\n",
        "    # Compile model\n",
        "    # Ubah loss function pada model\n",
        "    model.compile(\n",
        "        loss=SparseCategoricalCrossentropy(),\n",
        "        optimizer=tf.keras.optimizers.Adam(learning_rate=0.0005),\n",
        "        metrics=['accuracy']\n",
        "    )\n",
        "    return model\n",
        "\n",
        "# Fungsi untuk training\n",
        "def train_craft_model(model, X, y, epochs=12, batch_size=64):\n",
        "    # Callbacks\n",
        "    early_stopping = EarlyStopping(\n",
        "        monitor='val_loss',\n",
        "        patience=5,\n",
        "        restore_best_weights=True\n",
        "    )\n",
        "\n",
        "    checkpoint = ModelCheckpoint(\n",
        "        'best_trashup_model.keras',\n",
        "        monitor='val_accuracy',\n",
        "        save_best_only=True\n",
        "    )\n",
        "\n",
        "    # Training\n",
        "    history = model.fit(\n",
        "        X, y,\n",
        "        epochs=epochs,\n",
        "        batch_size=batch_size,\n",
        "        validation_split=0.2,\n",
        "        callbacks=[early_stopping, checkpoint],\n",
        "        verbose=1\n",
        "    )\n",
        "\n",
        "    return history\n",
        "\n",
        "# Bangun model baru\n",
        "model = build_craft_model_v2(seq_length, vocab_size)\n",
        "\n",
        "\n",
        "# Konversi y menjadi one-hot encoding\n",
        "y_one_hot = to_categorical(y, num_classes=vocab_size)\n",
        "\n",
        "# Training\n",
        "history = train_craft_model(model, X, y)"
      ],
      "metadata": {
        "colab": {
          "base_uri": "https://localhost:8080/"
        },
        "id": "coe6Wh6PcYeA",
        "outputId": "dc1726ae-1a5d-40fe-f1aa-38a4c4f5432f"
      },
      "id": "coe6Wh6PcYeA",
      "execution_count": null,
      "outputs": [
        {
          "output_type": "stream",
          "name": "stdout",
          "text": [
            "Epoch 1/12\n",
            "\u001b[1m1773/1773\u001b[0m \u001b[32m━━━━━━━━━━━━━━━━━━━━\u001b[0m\u001b[37m\u001b[0m \u001b[1m27s\u001b[0m 11ms/step - accuracy: 0.3319 - loss: 2.7227 - val_accuracy: 0.6684 - val_loss: 0.9034\n",
            "Epoch 2/12\n",
            "\u001b[1m1773/1773\u001b[0m \u001b[32m━━━━━━━━━━━━━━━━━━━━\u001b[0m\u001b[37m\u001b[0m \u001b[1m19s\u001b[0m 11ms/step - accuracy: 0.6745 - loss: 0.9081 - val_accuracy: 0.6939 - val_loss: 0.8109\n",
            "Epoch 3/12\n",
            "\u001b[1m1773/1773\u001b[0m \u001b[32m━━━━━━━━━━━━━━━━━━━━\u001b[0m\u001b[37m\u001b[0m \u001b[1m19s\u001b[0m 11ms/step - accuracy: 0.7014 - loss: 0.7989 - val_accuracy: 0.7145 - val_loss: 0.7329\n",
            "Epoch 4/12\n",
            "\u001b[1m1773/1773\u001b[0m \u001b[32m━━━━━━━━━━━━━━━━━━━━\u001b[0m\u001b[37m\u001b[0m \u001b[1m19s\u001b[0m 11ms/step - accuracy: 0.7085 - loss: 0.7572 - val_accuracy: 0.7123 - val_loss: 0.7299\n",
            "Epoch 5/12\n",
            "\u001b[1m1773/1773\u001b[0m \u001b[32m━━━━━━━━━━━━━━━━━━━━\u001b[0m\u001b[37m\u001b[0m \u001b[1m19s\u001b[0m 11ms/step - accuracy: 0.7172 - loss: 0.7254 - val_accuracy: 0.7134 - val_loss: 0.7325\n",
            "Epoch 6/12\n",
            "\u001b[1m1773/1773\u001b[0m \u001b[32m━━━━━━━━━━━━━━━━━━━━\u001b[0m\u001b[37m\u001b[0m \u001b[1m19s\u001b[0m 11ms/step - accuracy: 0.7234 - loss: 0.7041 - val_accuracy: 0.7307 - val_loss: 0.6853\n",
            "Epoch 7/12\n",
            "\u001b[1m1773/1773\u001b[0m \u001b[32m━━━━━━━━━━━━━━━━━━━━\u001b[0m\u001b[37m\u001b[0m \u001b[1m20s\u001b[0m 11ms/step - accuracy: 0.7326 - loss: 0.6756 - val_accuracy: 0.7406 - val_loss: 0.6514\n",
            "Epoch 8/12\n",
            "\u001b[1m1773/1773\u001b[0m \u001b[32m━━━━━━━━━━━━━━━━━━━━\u001b[0m\u001b[37m\u001b[0m \u001b[1m19s\u001b[0m 11ms/step - accuracy: 0.7432 - loss: 0.6485 - val_accuracy: 0.7416 - val_loss: 0.6374\n",
            "Epoch 9/12\n",
            "\u001b[1m1773/1773\u001b[0m \u001b[32m━━━━━━━━━━━━━━━━━━━━\u001b[0m\u001b[37m\u001b[0m \u001b[1m19s\u001b[0m 11ms/step - accuracy: 0.7430 - loss: 0.6467 - val_accuracy: 0.7437 - val_loss: 0.6338\n",
            "Epoch 10/12\n",
            "\u001b[1m1773/1773\u001b[0m \u001b[32m━━━━━━━━━━━━━━━━━━━━\u001b[0m\u001b[37m\u001b[0m \u001b[1m19s\u001b[0m 11ms/step - accuracy: 0.7416 - loss: 0.6538 - val_accuracy: 0.7455 - val_loss: 0.6295\n",
            "Epoch 11/12\n",
            "\u001b[1m1773/1773\u001b[0m \u001b[32m━━━━━━━━━━━━━━━━━━━━\u001b[0m\u001b[37m\u001b[0m \u001b[1m19s\u001b[0m 11ms/step - accuracy: 0.7435 - loss: 0.6426 - val_accuracy: 0.7466 - val_loss: 0.6271\n",
            "Epoch 12/12\n",
            "\u001b[1m1773/1773\u001b[0m \u001b[32m━━━━━━━━━━━━━━━━━━━━\u001b[0m\u001b[37m\u001b[0m \u001b[1m19s\u001b[0m 10ms/step - accuracy: 0.7476 - loss: 0.6326 - val_accuracy: 0.7452 - val_loss: 0.6297\n"
          ]
        }
      ]
    },
    {
      "cell_type": "code",
      "execution_count": null,
      "id": "89102ca3-b2fe-4a34-97c2-666164405ae8",
      "metadata": {
        "pycharm": {
          "name": "#%%\n"
        },
        "id": "89102ca3-b2fe-4a34-97c2-666164405ae8"
      },
      "outputs": [],
      "source": [
        "# model = Sequential()\n",
        "# model.add(LSTM(128, input_shape=(n_words, len(most_common_tokens)), return_sequences=True))\n",
        "# model.add(LSTM(128))\n",
        "# model.add(Dense(len(most_common_tokens)))\n",
        "# model.add(Activation(\"softmax\"))"
      ]
    },
    {
      "cell_type": "code",
      "execution_count": null,
      "id": "88ad45b0-b793-429a-80f7-105b04e086c2",
      "metadata": {
        "pycharm": {
          "name": "#%%\n"
        },
        "id": "88ad45b0-b793-429a-80f7-105b04e086c2"
      },
      "outputs": [],
      "source": [
        "# optimizer = RMSprop(learning_rate=0.01)\n",
        "# model.compile(loss=\"categorical_crossentropy\", optimizer=optimizer, metrics=[\"accuracy\"])\n",
        "# history = model.fit(X, y, batch_size=128, epochs=10, shuffle=True).history"
      ]
    },
    {
      "cell_type": "code",
      "source": [
        "import tensorflow as tf\n",
        "from tensorflow.keras.layers import Embedding, LayerNormalization, MultiHeadAttention, Dropout, Dense\n",
        "from tensorflow.keras import Model\n",
        "from tensorflow.keras.callbacks import EarlyStopping, ModelCheckpoint\n",
        "\n",
        "class TransformerModel(Model):\n",
        "    def __init__(self, vocab_size, embed_dim, num_heads, ff_dim, num_layers, max_length):\n",
        "        super(TransformerModel, self).__init__()\n",
        "        self.embedding = Embedding(vocab_size, embed_dim, input_length=max_length)\n",
        "        self.pos_encoding = self.positional_encoding(max_length, embed_dim)\n",
        "\n",
        "        self.encoder_layers = [\n",
        "            TransformerEncoderLayer(embed_dim, num_heads, ff_dim)\n",
        "            for _ in range(num_layers)\n",
        "        ]\n",
        "\n",
        "        self.final_layer = Dense(embed_dim)\n",
        "        self.decoder = Dense(vocab_size, activation='softmax')\n",
        "\n",
        "    def call(self, inputs):\n",
        "        # Add batch dimension to positional encoding\n",
        "        pos_encoding = tf.broadcast_to(self.pos_encoding, [tf.shape(inputs)[0], tf.shape(self.pos_encoding)[1], tf.shape(self.pos_encoding)[2]])\n",
        "\n",
        "        x = self.embedding(inputs)\n",
        "        x += pos_encoding\n",
        "\n",
        "        for layer in self.encoder_layers:\n",
        "            x = layer(x)\n",
        "\n",
        "        # Global average pooling\n",
        "        x = tf.reduce_mean(x, axis=1)\n",
        "\n",
        "        x = self.final_layer(x)\n",
        "        return self.decoder(x)\n",
        "\n",
        "    def positional_encoding(self, max_length, embed_dim):\n",
        "        positions = tf.range(start=0, limit=max_length, delta=1.0)[:, tf.newaxis]\n",
        "        dimensions = tf.range(start=0, limit=embed_dim, delta=2.0) / tf.cast(embed_dim, tf.float32)\n",
        "        angle_rates = tf.math.exp(-tf.math.log(10000.0) * dimensions)\n",
        "        angle_rads = positions * angle_rates\n",
        "\n",
        "        pos_encoding = tf.concat(\n",
        "            [tf.sin(angle_rads), tf.cos(angle_rads)],\n",
        "            axis=-1\n",
        "        )\n",
        "\n",
        "        return tf.expand_dims(pos_encoding, axis=0)\n",
        "\n",
        "class TransformerEncoderLayer(Model):\n",
        "    def __init__(self, embed_dim, num_heads, ff_dim):\n",
        "        super(TransformerEncoderLayer, self).__init__()\n",
        "        self.attn = MultiHeadAttention(num_heads=num_heads, key_dim=embed_dim//num_heads)\n",
        "        self.ffn = tf.keras.Sequential([\n",
        "            Dense(ff_dim, activation='relu'),\n",
        "            Dense(embed_dim)\n",
        "        ])\n",
        "        self.layernorm1 = LayerNormalization(epsilon=1e-6)\n",
        "        self.layernorm2 = LayerNormalization(epsilon=1e-6)\n",
        "        self.dropout = Dropout(0.1)\n",
        "\n",
        "    def call(self, inputs):\n",
        "        attn_output = self.attn(inputs, inputs)\n",
        "        attn_output = self.dropout(attn_output)\n",
        "        out1 = self.layernorm1(inputs + attn_output)\n",
        "\n",
        "        ffn_output = self.ffn(out1)\n",
        "        ffn_output = self.dropout(ffn_output)\n",
        "        return self.layernorm2(out1 + ffn_output)\n",
        "\n",
        "# Inisialisasi model\n",
        "model = TransformerModel(\n",
        "    vocab_size=vocab_size,\n",
        "    embed_dim=256,\n",
        "    num_heads=8,\n",
        "    ff_dim=512,\n",
        "    num_layers=6,\n",
        "    max_length=seq_length\n",
        ")\n",
        "\n",
        "# Compile model\n",
        "model.compile(\n",
        "    optimizer=tf.keras.optimizers.Adam(learning_rate=1e-4),\n",
        "    loss=tf.keras.losses.SparseCategoricalCrossentropy(from_logits=False),\n",
        "    metrics=['accuracy']\n",
        ")\n",
        "\n",
        "# Callbacks\n",
        "early_stopping = EarlyStopping(\n",
        "    monitor='val_loss',\n",
        "    patience=3,\n",
        "    restore_best_weights=True\n",
        ")\n",
        "\n",
        "checkpoint = ModelCheckpoint(\n",
        "    'best_transformer_model.keras',\n",
        "    monitor='val_accuracy',\n",
        "    save_best_only=True\n",
        ")\n",
        "\n",
        "# Training\n",
        "history = model.fit(\n",
        "    X, y,\n",
        "    epochs=15,\n",
        "    batch_size=32,\n",
        "    validation_split=0.2,\n",
        "    callbacks=[early_stopping, checkpoint],\n",
        "    verbose=1\n",
        ")"
      ],
      "metadata": {
        "id": "-nbpSTD61OX6",
        "colab": {
          "base_uri": "https://localhost:8080/"
        },
        "outputId": "4380f5a0-ef9f-4c92-e30d-9408add3bc53"
      },
      "id": "-nbpSTD61OX6",
      "execution_count": null,
      "outputs": [
        {
          "metadata": {
            "tags": null
          },
          "name": "stderr",
          "output_type": "stream",
          "text": [
            "/usr/local/lib/python3.10/dist-packages/keras/src/layers/core/embedding.py:90: UserWarning: Argument `input_length` is deprecated. Just remove it.\n",
            "  warnings.warn(\n"
          ]
        },
        {
          "output_type": "stream",
          "name": "stdout",
          "text": [
            "Epoch 1/15\n",
            "\u001b[1m3492/3492\u001b[0m \u001b[32m━━━━━━━━━━━━━━━━━━━━\u001b[0m\u001b[37m\u001b[0m \u001b[1m104s\u001b[0m 17ms/step - accuracy: 0.1764 - loss: 3.8272 - val_accuracy: 0.6790 - val_loss: 0.8889\n",
            "Epoch 2/15\n",
            "\u001b[1m3492/3492\u001b[0m \u001b[32m━━━━━━━━━━━━━━━━━━━━\u001b[0m\u001b[37m\u001b[0m \u001b[1m21s\u001b[0m 6ms/step - accuracy: 0.6856 - loss: 0.8675 - val_accuracy: 0.7019 - val_loss: 0.8001\n",
            "Epoch 3/15\n",
            "\u001b[1m3492/3492\u001b[0m \u001b[32m━━━━━━━━━━━━━━━━━━━━\u001b[0m\u001b[37m\u001b[0m \u001b[1m21s\u001b[0m 6ms/step - accuracy: 0.7040 - loss: 0.7945 - val_accuracy: 0.7109 - val_loss: 0.7558\n",
            "Epoch 4/15\n",
            "\u001b[1m3492/3492\u001b[0m \u001b[32m━━━━━━━━━━━━━━━━━━━━\u001b[0m\u001b[37m\u001b[0m \u001b[1m21s\u001b[0m 6ms/step - accuracy: 0.7169 - loss: 0.7411 - val_accuracy: 0.7279 - val_loss: 0.7028\n",
            "Epoch 5/15\n",
            "\u001b[1m3492/3492\u001b[0m \u001b[32m━━━━━━━━━━━━━━━━━━━━\u001b[0m\u001b[37m\u001b[0m \u001b[1m22s\u001b[0m 6ms/step - accuracy: 0.7340 - loss: 0.6882 - val_accuracy: 0.7283 - val_loss: 0.7233\n",
            "Epoch 6/15\n",
            "\u001b[1m3492/3492\u001b[0m \u001b[32m━━━━━━━━━━━━━━━━━━━━\u001b[0m\u001b[37m\u001b[0m \u001b[1m21s\u001b[0m 6ms/step - accuracy: 0.7375 - loss: 0.6744 - val_accuracy: 0.7435 - val_loss: 0.6533\n",
            "Epoch 7/15\n",
            "\u001b[1m3492/3492\u001b[0m \u001b[32m━━━━━━━━━━━━━━━━━━━━\u001b[0m\u001b[37m\u001b[0m \u001b[1m22s\u001b[0m 6ms/step - accuracy: 0.7436 - loss: 0.6526 - val_accuracy: 0.7447 - val_loss: 0.6530\n",
            "Epoch 8/15\n",
            "\u001b[1m3492/3492\u001b[0m \u001b[32m━━━━━━━━━━━━━━━━━━━━\u001b[0m\u001b[37m\u001b[0m \u001b[1m21s\u001b[0m 6ms/step - accuracy: 0.7439 - loss: 0.6502 - val_accuracy: 0.7445 - val_loss: 0.6498\n",
            "Epoch 9/15\n",
            "\u001b[1m3492/3492\u001b[0m \u001b[32m━━━━━━━━━━━━━━━━━━━━\u001b[0m\u001b[37m\u001b[0m \u001b[1m21s\u001b[0m 6ms/step - accuracy: 0.7453 - loss: 0.6466 - val_accuracy: 0.7432 - val_loss: 0.6439\n",
            "Epoch 10/15\n",
            "\u001b[1m3492/3492\u001b[0m \u001b[32m━━━━━━━━━━━━━━━━━━━━\u001b[0m\u001b[37m\u001b[0m \u001b[1m22s\u001b[0m 6ms/step - accuracy: 0.7429 - loss: 0.6499 - val_accuracy: 0.7414 - val_loss: 0.6454\n",
            "Epoch 11/15\n",
            "\u001b[1m3492/3492\u001b[0m \u001b[32m━━━━━━━━━━━━━━━━━━━━\u001b[0m\u001b[37m\u001b[0m \u001b[1m21s\u001b[0m 6ms/step - accuracy: 0.7454 - loss: 0.6437 - val_accuracy: 0.7292 - val_loss: 0.6902\n",
            "Epoch 12/15\n",
            "\u001b[1m3492/3492\u001b[0m \u001b[32m━━━━━━━━━━━━━━━━━━━━\u001b[0m\u001b[37m\u001b[0m \u001b[1m21s\u001b[0m 6ms/step - accuracy: 0.7417 - loss: 0.6506 - val_accuracy: 0.7452 - val_loss: 0.6526\n"
          ]
        }
      ]
    },
    {
      "cell_type": "code",
      "execution_count": null,
      "id": "c1a5e92e-9d96-4691-bcfa-39a777c868ab",
      "metadata": {
        "pycharm": {
          "name": "#%%\n"
        },
        "id": "c1a5e92e-9d96-4691-bcfa-39a777c868ab",
        "colab": {
          "base_uri": "https://localhost:8080/"
        },
        "outputId": "c9f4a808-a57c-42fb-b0d5-96444730c9f2"
      },
      "outputs": [
        {
          "output_type": "stream",
          "name": "stderr",
          "text": [
            "WARNING:absl:You are saving your model as an HDF5 file via `model.save()` or `keras.saving.save_model(model)`. This file format is considered legacy. We recommend using instead the native Keras format, e.g. `model.save('my_model.keras')` or `keras.saving.save_model(model, 'my_model.keras')`. \n"
          ]
        }
      ],
      "source": [
        "model.save(\"trashup_trans_model.h5\")\n",
        "with open(\"history2.p\", \"wb\") as f:\n",
        "    pickle.dump(history, f)"
      ]
    },
    {
      "cell_type": "code",
      "execution_count": null,
      "id": "557f5ffa-e4d5-47fd-9f00-32b0b3e489ed",
      "metadata": {
        "pycharm": {
          "name": "#%%\n"
        },
        "id": "557f5ffa-e4d5-47fd-9f00-32b0b3e489ed",
        "colab": {
          "base_uri": "https://localhost:8080/"
        },
        "outputId": "c6eec6df-8c37-42ae-f5aa-24751535469b"
      },
      "outputs": [
        {
          "output_type": "stream",
          "name": "stderr",
          "text": [
            "WARNING:absl:Compiled the loaded model, but the compiled metrics have yet to be built. `model.compile_metrics` will be empty until you train or evaluate the model.\n",
            "/usr/local/lib/python3.10/dist-packages/keras/src/saving/saving_lib.py:713: UserWarning: Skipping variable loading for optimizer 'rmsprop', because it has 19 variables whereas the saved optimizer has 36 variables. \n",
            "  saveable.load_own_variables(weights_store.get(inner_path))\n"
          ]
        }
      ],
      "source": [
        "model = load_model(\"trashup_trans_model.h5\")\n",
        "history = pickle.load(open(\"history2.p\", \"rb\"))"
      ]
    },
    {
      "cell_type": "code",
      "source": [
        "# Untuk melihat hasil training\n",
        "plt.plot(history.history['loss'], label='Training Loss')\n",
        "plt.plot(history.history['val_loss'], label='Validation Loss')\n",
        "plt.title('Model Loss')\n",
        "plt.xlabel('Epoch')\n",
        "plt.ylabel('Loss')\n",
        "plt.legend()\n",
        "plt.show()"
      ],
      "metadata": {
        "colab": {
          "base_uri": "https://localhost:8080/",
          "height": 472
        },
        "id": "3buvc1w0YUrF",
        "outputId": "7d7256cc-66ce-4b6b-bbcc-e9728d082ea9"
      },
      "id": "3buvc1w0YUrF",
      "execution_count": null,
      "outputs": [
        {
          "output_type": "display_data",
          "data": {
            "text/plain": [
              "<Figure size 640x480 with 1 Axes>"
            ],
            "image/png": "[encoded data removed]"
          },
          "metadata": {}
        }
      ]
    },
    {
      "cell_type": "code",
      "source": [
        "def generate_text(model, seed_text, max_tokens=50):\n",
        "    # Tokenisasi seed text\n",
        "    input_sequence = [token_to_idx.get(token, 0)\n",
        "                     for token in tokenizer.tokenize(seed_text.lower())\n",
        "                     if token.isalpha()]\n",
        "\n",
        "    # Pad sequence jika kurang dari seq_length\n",
        "    if len(input_sequence) < seq_length:\n",
        "        input_sequence = [0] * (seq_length - len(input_sequence)) + input_sequence\n",
        "    else:\n",
        "        input_sequence = input_sequence[-seq_length:]\n",
        "\n",
        "    input_sequence = np.array([input_sequence])  # Add batch dimension\n",
        "\n",
        "    generated_text = seed_text\n",
        "\n",
        "    # Generate text\n",
        "    for _ in range(max_tokens):\n",
        "        predictions = model.predict(input_sequence, verbose=0)\n",
        "        predicted_token_idx = np.argmax(predictions[0])\n",
        "\n",
        "        # Convert index to token\n",
        "        predicted_token = most_common_tokens[predicted_token_idx]\n",
        "        generated_text += \" \" + predicted_token\n",
        "\n",
        "        # Update input sequence\n",
        "        input_sequence = np.roll(input_sequence, -1, axis=1)\n",
        "        input_sequence[0, -1] = predicted_token_idx\n",
        "\n",
        "    return generated_text\n",
        "\n",
        "# Cara penggunaan:\n",
        "seed_text = \"punya botol plastik yang tidak terpakai\"\n",
        "generated = generate_text(\n",
        "    model=model,           # Model Transformer yang sudah di-training\n",
        "    seed_text=seed_text,   # Teks awal\n",
        "    max_tokens=50          # Jumlah token yang ingin digenerate\n",
        ")\n",
        "print(generated)"
      ],
      "metadata": {
        "colab": {
          "base_uri": "https://localhost:8080/"
        },
        "id": "TZruntoM7JKE",
        "outputId": "5c61b25c-63fd-4b96-ddc6-03d5990a4302"
      },
      "id": "TZruntoM7JKE",
      "execution_count": null,
      "outputs": [
        {
          "output_type": "stream",
          "name": "stdout",
          "text": [
            "punya botol plastik yang tidak terpakai yuk sulap menjadi lampu hias untuk membuatnya siapkan bahan bahan berikut kayu dan gunting proses pembuatan bisa dilakukan dengan cara berikut pertama gabung kardus bekas dengan kayu kedua lilin ketiga bentuk menjadi hiasan dinding mudah bukan sekarang kardus anda sudah menjadi hiasan dinding yang bermanfaat punya kardus yang tidak terpakai\n"
          ]
        }
      ]
    },
    {
      "cell_type": "code",
      "source": [
        "# Contoh untuk teks pendek\n",
        "generated_short = generate_text(model, \"membuat kerajinan\", max_tokens=20)\n",
        "\n",
        "# Contoh untuk teks panjang\n",
        "generated_long = generate_text(model, \"cara membuat kerajinan dari botol bekas\", max_tokens=100)\n",
        "\n",
        "# Contoh dengan prompt yang lebih spesifik\n",
        "generated_specific = generate_text(\n",
        "    model,\n",
        "    \"langkah pertama dalam membuat pot bunga dari botol plastik adalah\",\n",
        "    max_tokens=50\n",
        ")"
      ],
      "metadata": {
        "id": "ovsvtm277gOb"
      },
      "id": "ovsvtm277gOb",
      "execution_count": null,
      "outputs": []
    },
    {
      "cell_type": "code",
      "source": [
        "generated_long"
      ],
      "metadata": {
        "colab": {
          "base_uri": "https://localhost:8080/",
          "height": 140
        },
        "id": "ZeaDeC7C8R69",
        "outputId": "664379f6-ee42-461f-bb58-8b7a71a128d9"
      },
      "id": "ZeaDeC7C8R69",
      "execution_count": null,
      "outputs": [
        {
          "output_type": "execute_result",
          "data": {
            "text/plain": [
              "'cara membuat kerajinan dari botol bekas selamat berkreasi punya kardus yang tidak terpakai yuk sulap menjadi hiasan dinding untuk membuatnya siapkan bahan bahan berikut kayu dan gunting proses pembuatan bisa dilakukan dengan cara berikut pertama gabung kardus bekas dengan kayu kedua lilin ketiga bentuk menjadi hiasan dinding mudah bukan sekarang kardus anda sudah menjadi hiasan dinding yang bermanfaat punya kardus yang tidak terpakai yuk sulap menjadi hiasan dinding untuk membuatnya siapkan bahan bahan berikut kayu dan gunting proses pembuatan bisa dilakukan dengan cara berikut pertama gabung kardus bekas dengan kayu kedua lilin ketiga bentuk menjadi hiasan dinding mudah bukan sekarang kardus anda sudah menjadi hiasan dinding'"
            ],
            "application/vnd.google.colaboratory.intrinsic+json": {
              "type": "string"
            }
          },
          "metadata": {},
          "execution_count": 20
        }
      ]
    },
    {
      "cell_type": "code",
      "source": [
        "def generate_text_with_temp(model, seed_text, max_tokens=50, temperature=0.7):\n",
        "    # ... kode sama seperti sebelumnya sampai predictions ...\n",
        "    # Tokenisasi seed text\n",
        "    input_sequence = [token_to_idx.get(token, 0)\n",
        "                     for token in tokenizer.tokenize(seed_text.lower())\n",
        "                     if token.isalpha()]\n",
        "\n",
        "    # Pad sequence jika kurang dari seq_length\n",
        "    if len(input_sequence) < seq_length:\n",
        "        input_sequence = [0] * (seq_length - len(input_sequence)) + input_sequence\n",
        "    else:\n",
        "        input_sequence = input_sequence[-seq_length:]\n",
        "\n",
        "    input_sequence = np.array([input_sequence])  # Add batch dimension\n",
        "\n",
        "    generated_text = seed_text\n",
        "\n",
        "    predictions = model.predict(input_sequence, verbose=0)\n",
        "    # Apply temperature\n",
        "    predictions = predictions[0] / temperature\n",
        "    predictions = np.exp(predictions) / np.sum(np.exp(predictions))\n",
        "    predicted_token_idx = np.random.choice(len(predictions), p=predictions)\n",
        "\n",
        "    # Convert index to token\n",
        "    predicted_token = most_common_tokens[predicted_token_idx]\n",
        "    generated_text += \" \" + predicted_token\n",
        "\n",
        "    # Update input sequence\n",
        "    input_sequence = np.roll(input_sequence, -1, axis=1)\n",
        "    input_sequence[0, -1] = predicted_token_idx\n",
        "\n",
        "    return generated_text\n",
        "\n",
        "# Penggunaan dengan temperature berbeda\n",
        "# Temperature rendah = lebih konsisten\n",
        "generated_safe = generate_text_with_temp(model, seed_text, temperature=0.5)\n",
        "\n",
        "# Temperature tinggi = lebih kreatif\n",
        "generated_creative = generate_text_with_temp(model, seed_text, temperature=1.0)"
      ],
      "metadata": {
        "id": "hqfIWvqg7jDA"
      },
      "id": "hqfIWvqg7jDA",
      "execution_count": null,
      "outputs": []
    },
    {
      "cell_type": "code",
      "source": [
        "generated_creative"
      ],
      "metadata": {
        "colab": {
          "base_uri": "https://localhost:8080/",
          "height": 35
        },
        "id": "feZAG3nt9DPM",
        "outputId": "0f1ef4c9-518f-431d-ed53-eae30fb0b1e1"
      },
      "id": "feZAG3nt9DPM",
      "execution_count": null,
      "outputs": [
        {
          "output_type": "execute_result",
          "data": {
            "text/plain": [
              "'punya botol plastik yang tidak terpakai ide'"
            ],
            "application/vnd.google.colaboratory.intrinsic+json": {
              "type": "string"
            }
          },
          "metadata": {},
          "execution_count": 25
        }
      ]
    },
    {
      "cell_type": "code",
      "source": [
        "# def generate_text(model, seed_text, tokenizer, max_length=50):\n",
        "#     input_sequence = tokenizer.texts_to_sequences([seed_text])[0]\n",
        "#     input_sequence = tf.keras.preprocessing.sequence.pad_sequences(\n",
        "#         [input_sequence], maxlen=seq_length, padding='pre'\n",
        "#     )\n",
        "\n",
        "#     generated_text = seed_text\n",
        "\n",
        "#     for _ in range(max_length):\n",
        "#         predictions = model.predict(input_sequence, verbose=0)\n",
        "#         predicted_token = tf.argmax(predictions[0]).numpy()\n",
        "\n",
        "#         # Convert token to word\n",
        "#         predicted_word = \"\"\n",
        "#         for word, index in unique_token_index.items():\n",
        "#             if index == predicted_token:\n",
        "#                 predicted_word = word\n",
        "#                 break\n",
        "\n",
        "#         generated_text += \" \" + predicted_word\n",
        "\n",
        "#         # Update input sequence\n",
        "#         input_sequence = input_sequence[:, 1:]\n",
        "#         input_sequence = tf.keras.preprocessing.sequence.pad_sequences(\n",
        "#             [[*input_sequence[0], predicted_token]],\n",
        "#             maxlen=seq_length,\n",
        "#             padding='pre'\n",
        "#         )\n",
        "\n",
        "#     return generated_text"
      ],
      "metadata": {
        "id": "qhcNM7w4dujV"
      },
      "id": "qhcNM7w4dujV",
      "execution_count": null,
      "outputs": []
    },
    {
      "cell_type": "code",
      "execution_count": null,
      "id": "0a1f478f-8e5e-4e82-bdc7-0b6620e5cadf",
      "metadata": {
        "pycharm": {
          "name": "#%%\n"
        },
        "id": "0a1f478f-8e5e-4e82-bdc7-0b6620e5cadf"
      },
      "outputs": [],
      "source": [
        "# def predict_next_word(input_text, n_best):\n",
        "#     # Preprocess input text\n",
        "#     input_text = input_text.lower()\n",
        "#     tokenized = input_text.split()\n",
        "\n",
        "#     # Konversi input text ke indeks token\n",
        "#     X = np.zeros((1, n_words), dtype=int)\n",
        "#     for i, word in enumerate(tokenized):\n",
        "#         if i < n_words:  # Pastikan tidak melebihi panjang sequence\n",
        "#             if word in unique_token_index:\n",
        "#                 X[0, i] = unique_token_index[word]\n",
        "#             else:\n",
        "#                 X[0, i] = unique_token_index['<unk>']  # Gunakan token UNK jika tidak dikenal\n",
        "\n",
        "#     # Prediksi dengan model\n",
        "#     predictions = model.predict(X)[0]\n",
        "\n",
        "#     # Ambil n prediksi terbaik\n",
        "#     best_indices = np.argsort(predictions)[-n_best:][::-1]  # Urutkan dari nilai tertinggi\n",
        "#     best_words = [most_common_tokens[idx] for idx in best_indices]\n",
        "\n",
        "#     return best_words\n"
      ]
    },
    {
      "cell_type": "code",
      "execution_count": null,
      "id": "ba954451-6237-4d21-9e9d-81e23bcd6fab",
      "metadata": {
        "pycharm": {
          "name": "#%%\n"
        },
        "id": "ba954451-6237-4d21-9e9d-81e23bcd6fab"
      },
      "outputs": [],
      "source": [
        "# possible = predict_next_word(\"Punya botol plastik yang tidak terpakai\", 5)\n",
        "# possible"
      ]
    },
    {
      "cell_type": "code",
      "source": [
        "# def generate_text(model, input_sequence, n_words):\n",
        "#     for _ in range(n_words):\n",
        "#         predicted_probs = model.predict(input_sequence)\n",
        "#         predicted_token = tf.argmax(predicted_probs, axis=-1)\n",
        "#         input_sequence = tf.concat([input_sequence, predicted_token], axis=-1)\n",
        "#     return tokenizer.decode(input_sequence[0].numpy())"
      ],
      "metadata": {
        "id": "EOBkaf9-1bFg"
      },
      "id": "EOBkaf9-1bFg",
      "execution_count": null,
      "outputs": []
    },
    {
      "cell_type": "code",
      "execution_count": null,
      "id": "30d8a2cb-90cc-4698-8418-76ec38384450",
      "metadata": {
        "pycharm": {
          "name": "#%%\n"
        },
        "id": "30d8a2cb-90cc-4698-8418-76ec38384450"
      },
      "outputs": [],
      "source": [
        "# def generate_text(input_text, n_words_to_generate, creativity):\n",
        "#     \"\"\"\n",
        "#     Fungsi untuk menghasilkan teks berdasarkan input awal.\n",
        "#     Args:\n",
        "#         input_text (str): Teks awal untuk memulai generasi.\n",
        "#         n_words_to_generate (int): Jumlah kata yang akan dihasilkan.\n",
        "#         creativity (int): Jumlah opsi kata terbaik yang dipilih secara acak.\n",
        "\n",
        "#     Returns:\n",
        "#         str: Teks yang dihasilkan.\n",
        "#     \"\"\"\n",
        "#     # Tokenisasi teks input\n",
        "#     word_sequence = input_text.lower().split()\n",
        "\n",
        "#     for _ in range(n_words_to_generate):\n",
        "#         # Ambil sub_sequence dengan panjang maksimum (n_words)\n",
        "#         sub_sequence = word_sequence[-n_words:] if len(word_sequence) >= n_words else word_sequence\n",
        "\n",
        "#         # Prediksi kata berikutnya\n",
        "#         try:\n",
        "#             next_word_options = predict_next_word(\" \".join(sub_sequence), creativity)\n",
        "#             # Pilih kata berikutnya secara acak dari opsi terbaik\n",
        "#             next_word = random.choice(next_word_options)\n",
        "#         except Exception as e:\n",
        "#             print(f\"Error during prediction: {e}\")\n",
        "#             # Jika terjadi error, pilih kata acak dari kosakata\n",
        "#             next_word = random.choice(list(unique_token_index.keys()))\n",
        "\n",
        "#         # Tambahkan kata berikutnya ke sequence\n",
        "#         word_sequence.append(next_word)\n",
        "\n",
        "#     return \" \".join(word_sequence)\n"
      ]
    },
    {
      "cell_type": "code",
      "execution_count": null,
      "id": "0c868ebb-be16-4d4f-84df-196d983e09c6",
      "metadata": {
        "pycharm": {
          "name": "#%%\n"
        },
        "id": "0c868ebb-be16-4d4f-84df-196d983e09c6"
      },
      "outputs": [],
      "source": [
        "# generated_text = generate_text(\"punya botol plastik yang tidak terpakai\", 100, 10)"
      ]
    },
    {
      "cell_type": "code",
      "source": [
        "model.save(\"/content/trashup_trans_model.h5\")\n",
        "\n",
        "converter = tf.lite.TFLiteConverter.from_keras_model(model)\n",
        "# converter.allow_custom_ops = True\n",
        "tflite_model = converter.convert()\n",
        "\n",
        "with open(\"/content/trashup_transformer_model.tflite\", \"wb\") as f:\n",
        "    f.write(tflite_model)\n",
        "\n",
        "print(\"Konversi ke TFLite selesai!\")"
      ],
      "metadata": {
        "colab": {
          "base_uri": "https://localhost:8080/"
        },
        "id": "eawOliYW3QVj",
        "outputId": "a0848235-3fc2-48e4-a486-c5a067d48dc0"
      },
      "id": "eawOliYW3QVj",
      "execution_count": null,
      "outputs": [
        {
          "output_type": "stream",
          "name": "stderr",
          "text": [
            "WARNING:absl:You are saving your model as an HDF5 file via `model.save()` or `keras.saving.save_model(model)`. This file format is considered legacy. We recommend using instead the native Keras format, e.g. `model.save('my_model.keras')` or `keras.saving.save_model(model, 'my_model.keras')`. \n"
          ]
        },
        {
          "output_type": "stream",
          "name": "stdout",
          "text": [
            "Saved artifact at '/tmp/tmpmnzxra9i'. The following endpoints are available:\n",
            "\n",
            "* Endpoint 'serve'\n",
            "  args_0 (POSITIONAL_ONLY): TensorSpec(shape=(None, 10), dtype=tf.float32, name=None)\n",
            "Output Type:\n",
            "  TensorSpec(shape=(None, 162), dtype=tf.float32, name=None)\n",
            "Captures:\n",
            "  138666411527504: TensorSpec(shape=(1, 10, 256), dtype=tf.float32, name=None)\n",
            "  138666401417872: TensorSpec(shape=(), dtype=tf.resource, name=None)\n",
            "  138666401420864: TensorSpec(shape=(), dtype=tf.resource, name=None)\n",
            "  138666401428608: TensorSpec(shape=(), dtype=tf.resource, name=None)\n",
            "  138666401427904: TensorSpec(shape=(), dtype=tf.resource, name=None)\n",
            "  138666401430896: TensorSpec(shape=(), dtype=tf.resource, name=None)\n",
            "  138666401422976: TensorSpec(shape=(), dtype=tf.resource, name=None)\n",
            "  138666401422096: TensorSpec(shape=(), dtype=tf.resource, name=None)\n",
            "  138666401423328: TensorSpec(shape=(), dtype=tf.resource, name=None)\n",
            "  138666401429136: TensorSpec(shape=(), dtype=tf.resource, name=None)\n",
            "  138666401429312: TensorSpec(shape=(), dtype=tf.resource, name=None)\n",
            "  138666401428784: TensorSpec(shape=(), dtype=tf.resource, name=None)\n",
            "  138666400508816: TensorSpec(shape=(), dtype=tf.resource, name=None)\n",
            "  138666400509872: TensorSpec(shape=(), dtype=tf.resource, name=None)\n",
            "  138666401430192: TensorSpec(shape=(), dtype=tf.resource, name=None)\n",
            "  138666401422800: TensorSpec(shape=(), dtype=tf.resource, name=None)\n",
            "  138666401418048: TensorSpec(shape=(), dtype=tf.resource, name=None)\n",
            "  138666401423504: TensorSpec(shape=(), dtype=tf.resource, name=None)\n",
            "  138666358229824: TensorSpec(shape=(), dtype=tf.resource, name=None)\n",
            "  138666358228768: TensorSpec(shape=(), dtype=tf.resource, name=None)\n",
            "  138666358228944: TensorSpec(shape=(), dtype=tf.resource, name=None)\n",
            "  138666401430368: TensorSpec(shape=(), dtype=tf.resource, name=None)\n",
            "  138666401429664: TensorSpec(shape=(), dtype=tf.resource, name=None)\n",
            "  138666401429488: TensorSpec(shape=(), dtype=tf.resource, name=None)\n",
            "  138666358229296: TensorSpec(shape=(), dtype=tf.resource, name=None)\n",
            "  138666401431248: TensorSpec(shape=(), dtype=tf.resource, name=None)\n",
            "  138666401430720: TensorSpec(shape=(), dtype=tf.resource, name=None)\n",
            "  138666399866144: TensorSpec(shape=(), dtype=tf.resource, name=None)\n",
            "  138666401428080: TensorSpec(shape=(), dtype=tf.resource, name=None)\n",
            "  138666401427376: TensorSpec(shape=(), dtype=tf.resource, name=None)\n",
            "  138666358228240: TensorSpec(shape=(), dtype=tf.resource, name=None)\n",
            "  138666358135392: TensorSpec(shape=(), dtype=tf.resource, name=None)\n",
            "  138666358144016: TensorSpec(shape=(), dtype=tf.resource, name=None)\n",
            "  138666358135568: TensorSpec(shape=(), dtype=tf.resource, name=None)\n",
            "  138666401417520: TensorSpec(shape=(), dtype=tf.resource, name=None)\n",
            "  138666358144368: TensorSpec(shape=(), dtype=tf.resource, name=None)\n",
            "  138666358134160: TensorSpec(shape=(), dtype=tf.resource, name=None)\n",
            "  138666358137504: TensorSpec(shape=(), dtype=tf.resource, name=None)\n",
            "  138666358143664: TensorSpec(shape=(), dtype=tf.resource, name=None)\n",
            "  138666358130288: TensorSpec(shape=(), dtype=tf.resource, name=None)\n",
            "  138666358130112: TensorSpec(shape=(), dtype=tf.resource, name=None)\n",
            "  138666358139792: TensorSpec(shape=(), dtype=tf.resource, name=None)\n",
            "  138666358138560: TensorSpec(shape=(), dtype=tf.resource, name=None)\n",
            "  138666358133984: TensorSpec(shape=(), dtype=tf.resource, name=None)\n",
            "  138666358138032: TensorSpec(shape=(), dtype=tf.resource, name=None)\n",
            "  138666358142608: TensorSpec(shape=(), dtype=tf.resource, name=None)\n",
            "  138666358132928: TensorSpec(shape=(), dtype=tf.resource, name=None)\n",
            "  138666358144544: TensorSpec(shape=(), dtype=tf.resource, name=None)\n",
            "  138666358132224: TensorSpec(shape=(), dtype=tf.resource, name=None)\n",
            "  138666401423680: TensorSpec(shape=(), dtype=tf.resource, name=None)\n",
            "  138666358143312: TensorSpec(shape=(), dtype=tf.resource, name=None)\n",
            "  138666358139264: TensorSpec(shape=(), dtype=tf.resource, name=None)\n",
            "  138666358132400: TensorSpec(shape=(), dtype=tf.resource, name=None)\n",
            "  138666358138912: TensorSpec(shape=(), dtype=tf.resource, name=None)\n",
            "  138666357779520: TensorSpec(shape=(), dtype=tf.resource, name=None)\n",
            "  138666357772304: TensorSpec(shape=(), dtype=tf.resource, name=None)\n",
            "  138666357848400: TensorSpec(shape=(), dtype=tf.resource, name=None)\n",
            "  138666357846288: TensorSpec(shape=(), dtype=tf.resource, name=None)\n",
            "  138666357784096: TensorSpec(shape=(), dtype=tf.resource, name=None)\n",
            "  138666357780576: TensorSpec(shape=(), dtype=tf.resource, name=None)\n",
            "  138666357782512: TensorSpec(shape=(), dtype=tf.resource, name=None)\n",
            "  138666357783920: TensorSpec(shape=(), dtype=tf.resource, name=None)\n",
            "  138666358141024: TensorSpec(shape=(), dtype=tf.resource, name=None)\n",
            "  138666357781632: TensorSpec(shape=(), dtype=tf.resource, name=None)\n",
            "  138666358140496: TensorSpec(shape=(), dtype=tf.resource, name=None)\n",
            "  138666357845936: TensorSpec(shape=(), dtype=tf.resource, name=None)\n",
            "  138666357782688: TensorSpec(shape=(), dtype=tf.resource, name=None)\n",
            "  138666357783040: TensorSpec(shape=(), dtype=tf.resource, name=None)\n",
            "  138666357773008: TensorSpec(shape=(), dtype=tf.resource, name=None)\n",
            "  138666357779872: TensorSpec(shape=(), dtype=tf.resource, name=None)\n",
            "  138666357996384: TensorSpec(shape=(), dtype=tf.resource, name=None)\n",
            "  138666357986880: TensorSpec(shape=(), dtype=tf.resource, name=None)\n",
            "  138666357994096: TensorSpec(shape=(), dtype=tf.resource, name=None)\n",
            "  138666357989872: TensorSpec(shape=(), dtype=tf.resource, name=None)\n",
            "  138666357991104: TensorSpec(shape=(), dtype=tf.resource, name=None)\n",
            "  138666357984064: TensorSpec(shape=(), dtype=tf.resource, name=None)\n",
            "  138666358140672: TensorSpec(shape=(), dtype=tf.resource, name=None)\n",
            "  138666357986176: TensorSpec(shape=(), dtype=tf.resource, name=None)\n",
            "  138666357993568: TensorSpec(shape=(), dtype=tf.resource, name=None)\n",
            "  138666357994624: TensorSpec(shape=(), dtype=tf.resource, name=None)\n",
            "  138666357986704: TensorSpec(shape=(), dtype=tf.resource, name=None)\n",
            "  138666357992512: TensorSpec(shape=(), dtype=tf.resource, name=None)\n",
            "  138666401288032: TensorSpec(shape=(), dtype=tf.resource, name=None)\n",
            "  138666357991808: TensorSpec(shape=(), dtype=tf.resource, name=None)\n",
            "  138666357993040: TensorSpec(shape=(), dtype=tf.resource, name=None)\n",
            "  138666357990576: TensorSpec(shape=(), dtype=tf.resource, name=None)\n",
            "  138666357989168: TensorSpec(shape=(), dtype=tf.resource, name=None)\n",
            "  138666357996912: TensorSpec(shape=(), dtype=tf.resource, name=None)\n",
            "  138666357993920: TensorSpec(shape=(), dtype=tf.resource, name=None)\n",
            "  138666357984240: TensorSpec(shape=(), dtype=tf.resource, name=None)\n",
            "  138666357993392: TensorSpec(shape=(), dtype=tf.resource, name=None)\n",
            "  138666401290144: TensorSpec(shape=(), dtype=tf.resource, name=None)\n",
            "  138666357990928: TensorSpec(shape=(), dtype=tf.resource, name=None)\n",
            "  138666400775536: TensorSpec(shape=(), dtype=tf.resource, name=None)\n",
            "  138666357982304: TensorSpec(shape=(), dtype=tf.resource, name=None)\n",
            "  138666400775184: TensorSpec(shape=(), dtype=tf.resource, name=None)\n",
            "  138666400763040: TensorSpec(shape=(), dtype=tf.resource, name=None)\n",
            "  138666400764096: TensorSpec(shape=(), dtype=tf.resource, name=None)\n",
            "  138666364123296: TensorSpec(shape=(), dtype=tf.resource, name=None)\n",
            "  138666400773248: TensorSpec(shape=(), dtype=tf.resource, name=None)\n",
            "  138666400770080: TensorSpec(shape=(), dtype=tf.resource, name=None)\n",
            "  138666400775888: TensorSpec(shape=(), dtype=tf.resource, name=None)\n",
            "Konversi ke TFLite selesai!\n"
          ]
        }
      ]
    }
  ],
  "metadata": {
    "kernelspec": {
      "display_name": "Python 3",
      "name": "python3"
    },
    "language_info": {
      "codemirror_mode": {
        "name": "ipython",
        "version": 3
      },
      "file_extension": ".py",
      "mimetype": "text/x-python",
      "name": "python",
      "nbconvert_exporter": "python",
      "pygments_lexer": "ipython3",
      "version": "3.9.11"
    },
    "colab": {
      "provenance": [],
      "gpuType": "A100"
    },
    "accelerator": "GPU"
  },
  "nbformat": 4,
  "nbformat_minor": 5
}